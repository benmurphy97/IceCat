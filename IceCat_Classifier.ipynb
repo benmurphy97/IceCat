{
 "cells": [
  {
   "cell_type": "markdown",
   "metadata": {},
   "source": [
    "# Goal of analysis: classify product categories based on the product's description"
   ]
  },
  {
   "cell_type": "markdown",
   "metadata": {},
   "source": [
    "- # Import necessary packages"
   ]
  },
  {
   "cell_type": "code",
   "execution_count": 1,
   "metadata": {},
   "outputs": [
    {
     "name": "stderr",
     "output_type": "stream",
     "text": [
      "[nltk_data] Downloading package punkt to /Users/benmurphy/nltk_data...\n",
      "[nltk_data]   Package punkt is already up-to-date!\n"
     ]
    }
   ],
   "source": [
    "import pandas as pd\n",
    "import numpy as np\n",
    "\n",
    "import seaborn as sns\n",
    "import matplotlib.pyplot as plt\n",
    "import time\n",
    "\n",
    "from sklearn.model_selection import train_test_split\n",
    "from sklearn.linear_model import LogisticRegression as LogR\n",
    "from sklearn.metrics import accuracy_score\n",
    "\n",
    "from sklearn.feature_extraction.text import TfidfVectorizer\n",
    "\n",
    "import nltk\n",
    "nltk.download('punkt')\n",
    "from nltk.tokenize import word_tokenize\n",
    "from nltk.stem import SnowballStemmer\n",
    "\n",
    "import langid"
   ]
  },
  {
   "cell_type": "code",
   "execution_count": 2,
   "metadata": {},
   "outputs": [
    {
     "data": {
      "text/html": [
       "<div>\n",
       "<style scoped>\n",
       "    .dataframe tbody tr th:only-of-type {\n",
       "        vertical-align: middle;\n",
       "    }\n",
       "\n",
       "    .dataframe tbody tr th {\n",
       "        vertical-align: top;\n",
       "    }\n",
       "\n",
       "    .dataframe thead th {\n",
       "        text-align: right;\n",
       "    }\n",
       "</style>\n",
       "<table border=\"1\" class=\"dataframe\">\n",
       "  <thead>\n",
       "    <tr style=\"text-align: right;\">\n",
       "      <th></th>\n",
       "      <th>PK</th>\n",
       "      <th>catid</th>\n",
       "      <th>model_name</th>\n",
       "      <th>desc</th>\n",
       "      <th>category</th>\n",
       "    </tr>\n",
       "  </thead>\n",
       "  <tbody>\n",
       "    <tr>\n",
       "      <th>0</th>\n",
       "      <td>445753</td>\n",
       "      <td>1406</td>\n",
       "      <td>Juice Extractor JE350</td>\n",
       "      <td>juice extractor quick easy juicing fruits vege...</td>\n",
       "      <td>juice makers</td>\n",
       "    </tr>\n",
       "  </tbody>\n",
       "</table>\n",
       "</div>"
      ],
      "text/plain": [
       "       PK  catid             model_name  \\\n",
       "0  445753   1406  Juice Extractor JE350   \n",
       "\n",
       "                                                desc      category  \n",
       "0  juice extractor quick easy juicing fruits vege...  juice makers  "
      ]
     },
     "execution_count": 2,
     "metadata": {},
     "output_type": "execute_result"
    }
   ],
   "source": [
    "cat = pd.read_csv('categorization.csv')\n",
    "\n",
    "ice_train = pd.read_csv('icecat.csv')\n",
    "\n",
    "# We will merge the datasets together\n",
    "ice_train = ice_train.merge(cat, how = 'inner', on = ['catid'])\n",
    "\n",
    "# drop duplicate descriptions\n",
    "ice_train = ice_train.drop_duplicates(['desc'])\n",
    "\n",
    "ice_train.head(1)"
   ]
  },
  {
   "cell_type": "markdown",
   "metadata": {},
   "source": [
    "- # Data cleaning"
   ]
  },
  {
   "cell_type": "code",
   "execution_count": 3,
   "metadata": {},
   "outputs": [
    {
     "data": {
      "text/plain": [
       "'juice extractor quick easy juicing fruits vegetables apple carrot kiwi melon stainless steel permanent filter hard wearing easily removed cleaning generous litre removable pulp collector process apples compact space saving design safety lid interlock simple twist action ensures lid position machine operated cord storage prevents trailing flex work top two speed control hard soft fruit vegetables easy cleaning parts disassemble litres pint pulp colour wattage kenwood juice extractor green white kenwood juice extractor power colour product green white'"
      ]
     },
     "execution_count": 3,
     "metadata": {},
     "output_type": "execute_result"
    }
   ],
   "source": [
    "ice_train['desc'][0]"
   ]
  },
  {
   "cell_type": "markdown",
   "metadata": {},
   "source": [
    "- Our descriptions are cuurently one long string.\n",
    "- We must tokenize the descriptions. \n",
    "- We divide the sentence up into individual words."
   ]
  },
  {
   "cell_type": "code",
   "execution_count": 4,
   "metadata": {},
   "outputs": [
    {
     "data": {
      "text/plain": [
       "['juice', 'extractor', 'quick', 'easy', 'juicing']"
      ]
     },
     "execution_count": 4,
     "metadata": {},
     "output_type": "execute_result"
    }
   ],
   "source": [
    "ice_train['tokenized_desc'] = ice_train.apply(lambda row: word_tokenize(row['desc']), axis=1)\n",
    "# print out first few words\n",
    "ice_train['tokenized_desc'][0][0:5]"
   ]
  },
  {
   "cell_type": "markdown",
   "metadata": {},
   "source": [
    "- Check languages of descriptions"
   ]
  },
  {
   "cell_type": "code",
   "execution_count": 5,
   "metadata": {},
   "outputs": [
    {
     "name": "stdout",
     "output_type": "stream",
     "text": [
      "Number of different languages:  56\n"
     ]
    }
   ],
   "source": [
    "def detect_language(sentence):\n",
    "    return langid.classify(sentence)[0]\n",
    "\n",
    "ice_train['desc_lang'] = ice_train.apply(lambda row: detect_language(row['desc']), axis = 1)\n",
    "\n",
    "print(\"Number of different languages: \", str(len(ice_train['desc_lang'].value_counts().index)))\n",
    "\n"
   ]
  },
  {
   "cell_type": "code",
   "execution_count": 19,
   "metadata": {},
   "outputs": [
    {
     "name": "stdout",
     "output_type": "stream",
     "text": [
      "Total number of samples: 19291\n",
      "Total number of categories: 56\n",
      "- 1 most frequent language: Count:17097, Language: en\n",
      "- 2 most frequent language: Count:285, Language: it\n",
      "- 3 most frequent language: Count:245, Language: fr\n"
     ]
    },
    {
     "data": {
      "image/png": "[encoded data removed]",
      "text/plain": [
       "<Figure size 432x288 with 1 Axes>"
      ]
     },
     "metadata": {
      "needs_background": "light"
     },
     "output_type": "display_data"
    },
    {
     "data": {
      "image/png": "[encoded data removed]",
      "text/plain": [
       "<Figure size 432x288 with 1 Axes>"
      ]
     },
     "metadata": {
      "needs_background": "light"
     },
     "output_type": "display_data"
    }
   ],
   "source": [
    "counts_per_lang = ice_train.desc_lang.value_counts()\n",
    "plt.plot(np.arange(len(counts_per_lang)), counts_per_lang, 'xk')\n",
    "plt.ylabel('Counts per language')\n",
    "plt.title('Language distribution')\n",
    "\n",
    "print(\"Total number of samples: {}\".format(len(ice_train)))\n",
    "print(\"Total number of categories: {}\".format(len(counts_per_lang)))\n",
    "\n",
    "for i in range(3):\n",
    "    print(\"- {i} most frequent language: Count:{n}, Language: {name}\".format(\n",
    "            i=i+1,\n",
    "            n = counts_per_lang.tolist()[i],\n",
    "            name = counts_per_lang.index.tolist()[i]))\n",
    "    \n",
    "english_count = ice_train['desc_lang'].value_counts().iloc[:1].sum()\n",
    "other_count = ice_train['desc_lang'].value_counts().iloc[1:].sum()\n",
    "values = [english_count, other_count]\n",
    "\n",
    "plt.figure(figsize=(6, 4))\n",
    "plt.bar(x = [\"English\", \"Other\"], height = values, color = \"cornflowerblue\")\n",
    "plt.title(\"Langauge Comparison\")\n",
    "plt.show()"
   ]
  },
  {
   "cell_type": "markdown",
   "metadata": {},
   "source": [
    "- English is the clearly the most common language.\n",
    "- We will only use the english descriptions from now on."
   ]
  },
  {
   "cell_type": "code",
   "execution_count": 20,
   "metadata": {},
   "outputs": [
    {
     "data": {
      "text/plain": [
       "(17097, 7)"
      ]
     },
     "execution_count": 20,
     "metadata": {},
     "output_type": "execute_result"
    }
   ],
   "source": [
    "ice_train = ice_train.loc[ice_train[\"desc_lang\"] == 'en']\n",
    "ice_train.shape"
   ]
  },
  {
   "cell_type": "markdown",
   "metadata": {},
   "source": [
    "- ## We are going to stem our words"
   ]
  },
  {
   "cell_type": "code",
   "execution_count": 21,
   "metadata": {},
   "outputs": [
    {
     "data": {
      "text/plain": [
       "['juic', 'extractor', 'quick', 'easi', 'juic']"
      ]
     },
     "execution_count": 21,
     "metadata": {},
     "output_type": "execute_result"
    }
   ],
   "source": [
    "ss_en = SnowballStemmer('english')\n",
    "\n",
    "def stem_words(tokens):\n",
    "    return [ss_en.stem(i) for i in tokens]\n",
    "    \n",
    "ice_train['tokenized_desc_stem'] = ice_train.apply(lambda row: stem_words(row['tokenized_desc']), axis = 1)\n",
    "\n",
    "ice_train['tokenized_desc_stem'][0][0:5]"
   ]
  },
  {
   "cell_type": "markdown",
   "metadata": {},
   "source": [
    "- We will convert our tokenized, stemmed descriptions back into strings for our vectorizer"
   ]
  },
  {
   "cell_type": "code",
   "execution_count": 22,
   "metadata": {},
   "outputs": [],
   "source": [
    "def token_to_sentence(word_list):\n",
    "    return ' '.join(word for word in word_list)\n",
    "\n",
    "ice_train['desc_stem'] = ice_train.apply(lambda row: token_to_sentence(row['tokenized_desc_stem']), axis = 1)"
   ]
  },
  {
   "cell_type": "markdown",
   "metadata": {},
   "source": [
    "# Lets take a look at our target: category"
   ]
  },
  {
   "cell_type": "code",
   "execution_count": 23,
   "metadata": {},
   "outputs": [
    {
     "data": {
      "image/png": "[encoded data removed]",
      "text/plain": [
       "<Figure size 2160x432 with 1 Axes>"
      ]
     },
     "metadata": {
      "needs_background": "light"
     },
     "output_type": "display_data"
    }
   ],
   "source": [
    "plt.figure(figsize=(30, 6))\n",
    "plt.xticks(rotation=60)\n",
    "sns.countplot(x=\"category\", \n",
    "              data=ice_train, \n",
    "              order = ice_train['category'].value_counts().iloc[:].index\n",
    "              ).set_title('Number of products per category')\n",
    "plt.show()"
   ]
  },
  {
   "cell_type": "markdown",
   "metadata": {},
   "source": [
    "- category is highly imbalanced, we will need to stratify our train and test sets later"
   ]
  },
  {
   "cell_type": "markdown",
   "metadata": {},
   "source": [
    "# Vectorizer\n",
    "- We will use the TFIDF vectorizer form sklearn \n",
    "\n"
   ]
  },
  {
   "cell_type": "code",
   "execution_count": 27,
   "metadata": {},
   "outputs": [
    {
     "data": {
      "text/plain": [
       "<1x10000 sparse matrix of type '<class 'numpy.float64'>'\n",
       "\twith 59 stored elements in Compressed Sparse Row format>"
      ]
     },
     "execution_count": 27,
     "metadata": {},
     "output_type": "execute_result"
    }
   ],
   "source": [
    "text_data = ice_train['desc_stem']\n",
    "text_data = np.array(text_data)\n",
    "\n",
    "## And now testing TFIDF vectorizer:\n",
    "tfidf_vectorizer = TfidfVectorizer(ngram_range=(1,1), max_features=10000)\n",
    "tfidf_matrix = tfidf_vectorizer.fit_transform(text_data)\n",
    "\n",
    "# Get feature names\n",
    "feature_names = tfidf_vectorizer.get_feature_names()\n",
    "\n",
    "tfidf_matrix[0]"
   ]
  },
  {
   "cell_type": "markdown",
   "metadata": {},
   "source": [
    "# Train and test sets preperation"
   ]
  },
  {
   "cell_type": "code",
   "execution_count": 28,
   "metadata": {},
   "outputs": [],
   "source": [
    "# Mapping our category values from string to int\n",
    "\n",
    "categories_dict = {'category': {'juice makers':0, 'processors':1, 'calculators':2, 'pliers':3,\n",
    "       'photo albums':4, 'fax machines':5, 'e-book reader cases':6,\n",
    "       'stylus pens':7, 'electrical switches':8, 'fryers':9, 'staplers':10,\n",
    "       'door intercom systems':11, 'markers':12, 'dolls':13, 'paper shredders':14,\n",
    "       'pressure cookers':15, 'whiteboards':16, 'trash cans':17, 'slicers':18, 'jars':19,\n",
    "       'handheld vacuums':20, 'binoculars':21, 'table clocks':22, 'baby car seats':23,\n",
    "       'cable locks':24, 'cups & mugs':25, 'graters':26, 'bar code readers':27,\n",
    "       'audio amplifiers':28, 'lawn mowers':29, 'clipboards':30, 'kitchen scales':31,\n",
    "       'strollers':32, 'epilators':33, 'guitars':34, 'humidifiers':35, 'teapots':36,\n",
    "       'sandwich makers':37, 'multimeters':38, 'sport rackets':39}}\n",
    "\n",
    "# Create a category name column to store the category name\n",
    "ice_train['category_name'] = ice_train['category']\n",
    "\n",
    "# Use our dictionary to replace categories in our datframe with numbers\n",
    "ice_train.replace(categories_dict, inplace=True)"
   ]
  },
  {
   "cell_type": "markdown",
   "metadata": {},
   "source": [
    "- We will create a dataframe using our vectorizer and feature names"
   ]
  },
  {
   "cell_type": "code",
   "execution_count": 29,
   "metadata": {},
   "outputs": [],
   "source": [
    "tfidf_df = pd.DataFrame(tfidf_matrix.toarray(), columns=feature_names)\n",
    "\n",
    "df_cats = list(ice_train['category'])\n",
    "tfidf_df['CATEGORY'] = df_cats"
   ]
  },
  {
   "cell_type": "code",
   "execution_count": 30,
   "metadata": {},
   "outputs": [],
   "source": [
    "# Target Column\n",
    "y = tfidf_df['CATEGORY']\n",
    "\n",
    "# Features to use in model\n",
    "X = tfidf_df.drop('CATEGORY', axis=1)\n",
    "\n",
    "#Split data to train and test\n",
    "X_train, X_test, y_train, y_test = train_test_split(X, y, test_size=0.25, stratify=df_cats)"
   ]
  },
  {
   "cell_type": "markdown",
   "metadata": {},
   "source": [
    "# ML model - logistic regression"
   ]
  },
  {
   "cell_type": "code",
   "execution_count": 31,
   "metadata": {},
   "outputs": [
    {
     "name": "stderr",
     "output_type": "stream",
     "text": [
      "//anaconda3/lib/python3.7/site-packages/sklearn/linear_model/logistic.py:469: FutureWarning: Default multi_class will be changed to 'auto' in 0.22. Specify the multi_class option to silence this warning.\n",
      "  \"this warning.\", FutureWarning)\n"
     ]
    },
    {
     "name": "stdout",
     "output_type": "stream",
     "text": [
      "Training time: 138.32762122154236\n"
     ]
    }
   ],
   "source": [
    "start = time.time()\n",
    "\n",
    "# solver=lbfgs https://en.wikipedia.org/wiki/Limited-memory_BFGS\n",
    "log = LogR(solver='lbfgs')\n",
    "log.fit(X_train, y_train)\n",
    "\n",
    "end = time.time()\n",
    "total = end-start\n",
    "print('Training time: %s' % total)"
   ]
  },
  {
   "cell_type": "code",
   "execution_count": 32,
   "metadata": {},
   "outputs": [
    {
     "name": "stdout",
     "output_type": "stream",
     "text": [
      "Train accuracy: 0.9827\n",
      "Test accuracy: 0.971\n"
     ]
    }
   ],
   "source": [
    "train_pred = log.predict(X_train)\n",
    "train_acc = accuracy_score(y_train, train_pred)\n",
    "print(\"Train accuracy: %s\" % round(train_acc, 4))\n",
    "\n",
    "test_pred = log.predict(X_test)\n",
    "test_acc = accuracy_score(y_test, test_pred)\n",
    "print(\"Test accuracy: %s\" % round(test_acc, 4))"
   ]
  },
  {
   "cell_type": "markdown",
   "metadata": {},
   "source": [
    "- Very good accuracy for our model\n",
    "- No clear signs of overfitting as Train and Test accuracy are very similiar\n",
    "- Training time is somewhat slow"
   ]
  },
  {
   "cell_type": "markdown",
   "metadata": {},
   "source": [
    "## Dimensionality Reduction to improve performance of our model"
   ]
  },
  {
   "cell_type": "code",
   "execution_count": null,
   "metadata": {},
   "outputs": [],
   "source": [
    "from sklearn.decomposition import TruncatedSVD\n",
    "\n",
    "# SVD represent documents and terms in vectors \n",
    "svd_model = TruncatedSVD(n_components=100, algorithm='randomized', n_iter=100, random_state=42)\n",
    "\n",
    "svd_model.fit(tfidf_matrix.T)\n",
    "\n",
    "len(svd_model.components_)\n",
    "\n",
    "cols = np.arange(svd_model.components_.shape[0])\n",
    "svd_df = pd.DataFrame(svd_model.components_.T, columns=cols)\n",
    "\n",
    "svd_df['category_label'] = df_cats"
   ]
  },
  {
   "cell_type": "code",
   "execution_count": null,
   "metadata": {},
   "outputs": [],
   "source": [
    "cols = np.arange(svd_model.components_.shape[0])\n",
    "svd_df = pd.DataFrame(svd_model.components_.T, columns=cols)"
   ]
  },
  {
   "cell_type": "code",
   "execution_count": null,
   "metadata": {},
   "outputs": [],
   "source": [
    "svd_df['category_label'] = df_cats\n",
    "svd_df.shape"
   ]
  }
 ],
 "metadata": {
  "kernelspec": {
   "display_name": "Python 3",
   "language": "python",
   "name": "python3"
  },
  "language_info": {
   "codemirror_mode": {
    "name": "ipython",
    "version": 3
   },
   "file_extension": ".py",
   "mimetype": "text/x-python",
   "name": "python",
   "nbconvert_exporter": "python",
   "pygments_lexer": "ipython3",
   "version": "3.7.3"
  }
 },
 "nbformat": 4,
 "nbformat_minor": 4
}
